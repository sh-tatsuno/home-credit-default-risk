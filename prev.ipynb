{
 "cells": [
  {
   "cell_type": "code",
   "execution_count": 17,
   "metadata": {
    "collapsed": true
   },
   "outputs": [],
   "source": [
    "import pandas as pd\n",
    "import numpy as np\n",
    "from utils.utils import *"
   ]
  },
  {
   "cell_type": "code",
   "execution_count": 18,
   "metadata": {
    "collapsed": true
   },
   "outputs": [],
   "source": [
    "prev = pd.read_csv(DIR+'previous_application.csv.zip')"
   ]
  },
  {
   "cell_type": "code",
   "execution_count": 26,
   "metadata": {},
   "outputs": [
    {
     "data": {
      "text/plain": [
       "1549"
      ]
     },
     "execution_count": 26,
     "metadata": {},
     "output_type": "execute_result"
    }
   ],
   "source": [
    "prev, cat_cols = one_hot_encoder(prev)\n",
    "# Days 365.243 values -> nan\n",
    "prev['DAYS_FIRST_DRAWING'].replace(365243, np.nan, inplace= True)\n",
    "prev['DAYS_FIRST_DUE'].replace(365243, np.nan, inplace= True)\n",
    "prev['DAYS_LAST_DUE_1ST_VERSION'].replace(365243, np.nan, inplace= True)\n",
    "prev['DAYS_LAST_DUE'].replace(365243, np.nan, inplace= True)\n",
    "prev['DAYS_TERMINATION'].replace(365243, np.nan, inplace= True)\n",
    "# Add feature: value ask / value received percentage\n",
    "prev['APP_CREDIT_PERC'] = prev['AMT_APPLICATION'] / prev['AMT_CREDIT']\n",
    "# Previous applications numeric features\n",
    "num_aggregations = {\n",
    "    'AMT_ANNUITY': [ 'max', 'mean'],\n",
    "    'AMT_APPLICATION': [ 'mean'],\n",
    "    'AMT_CREDIT': [ 'max', 'mean'],\n",
    "    'APP_CREDIT_PERC': [ 'max', 'mean'],\n",
    "    'AMT_DOWN_PAYMENT': [ 'max', 'mean'],\n",
    "    'AMT_GOODS_PRICE': [ 'max', 'mean'],\n",
    "    'HOUR_APPR_PROCESS_START': [ 'max', 'mean'],\n",
    "    'RATE_DOWN_PAYMENT': ['min', 'max', 'mean'],\n",
    "    'DAYS_DECISION': ['min', 'max', 'mean'],\n",
    "    'CNT_PAYMENT': ['mean', 'sum'],\n",
    "}\n",
    "# Previous applications categorical features\n",
    "cat_aggregations = {}\n",
    "for cat in cat_cols:\n",
    "    cat_aggregations[cat] = ['mean']\n",
    "\n",
    "prev_agg = prev.groupby('SK_ID_CURR').agg({**num_aggregations, **cat_aggregations})\n",
    "prev_agg.columns = pd.Index(['PREV_' + e[0] + \"_\" + e[1].upper() for e in prev_agg.columns.tolist()])\n",
    "prev_agg_col = prev_agg.columns\n",
    "# Previous Applications: Approved Applications - only numerical features\n",
    "approved = prev[prev['NAME_CONTRACT_STATUS_Approved'] == 1]\n",
    "approved_agg = approved.groupby('SK_ID_CURR').agg(num_aggregations)\n",
    "approved_agg.columns = pd.Index(['APPROVED_' + e[0] + \"_\" + e[1].upper() for e in approved_agg.columns.tolist()])\n",
    "prev_agg = prev_agg.join(approved_agg, how='left', on='SK_ID_CURR')\n",
    "# Previous Applications: Refused Applications - only numerical features\n",
    "refused = prev[prev['NAME_CONTRACT_STATUS_Refused'] == 1]\n",
    "refused_agg = refused.groupby('SK_ID_CURR').agg(num_aggregations)\n",
    "refused_agg.columns = pd.Index(['REFUSED_' + e[0] + \"_\" + e[1].upper() for e in refused_agg.columns.tolist()])\n",
    "prev_agg = prev_agg.join(refused_agg, how='left', on='SK_ID_CURR')\n",
    "\n",
    "# add\n",
    "#for e in prev_agg_col.tolist():\n",
    "#    prev_agg['ARRATE_'+ e[5:]] = prev_agg['APPROVED_' + e[5:]] / prev_agg['REFUSED_' + e[5:]]\n",
    "\n",
    "del refused, refused_agg, approved, approved_agg, prev\n",
    "gc.collect()"
   ]
  },
  {
   "cell_type": "code",
   "execution_count": 27,
   "metadata": {
    "collapsed": true
   },
   "outputs": [],
   "source": [
    "np.set_printoptions(threshold=np.inf)"
   ]
  },
  {
   "cell_type": "code",
   "execution_count": 28,
   "metadata": {},
   "outputs": [
    {
     "data": {
      "text/plain": [
       "array(['PREV_AMT_ANNUITY_MAX', 'PREV_AMT_ANNUITY_MEAN',\n",
       "       'PREV_AMT_APPLICATION_MEAN', 'PREV_AMT_CREDIT_MAX',\n",
       "       'PREV_AMT_CREDIT_MEAN', 'PREV_APP_CREDIT_PERC_MAX',\n",
       "       'PREV_APP_CREDIT_PERC_MEAN', 'PREV_AMT_DOWN_PAYMENT_MAX',\n",
       "       'PREV_AMT_DOWN_PAYMENT_MEAN', 'PREV_AMT_GOODS_PRICE_MAX',\n",
       "       'PREV_AMT_GOODS_PRICE_MEAN', 'PREV_HOUR_APPR_PROCESS_START_MAX',\n",
       "       'PREV_HOUR_APPR_PROCESS_START_MEAN', 'PREV_RATE_DOWN_PAYMENT_MIN',\n",
       "       'PREV_RATE_DOWN_PAYMENT_MAX', 'PREV_RATE_DOWN_PAYMENT_MEAN',\n",
       "       'PREV_DAYS_DECISION_MIN', 'PREV_DAYS_DECISION_MAX',\n",
       "       'PREV_DAYS_DECISION_MEAN', 'PREV_CNT_PAYMENT_MEAN',\n",
       "       'PREV_CNT_PAYMENT_SUM', 'APPROVED_AMT_ANNUITY_MAX',\n",
       "       'APPROVED_AMT_ANNUITY_MEAN', 'APPROVED_AMT_APPLICATION_MEAN',\n",
       "       'APPROVED_AMT_CREDIT_MAX', 'APPROVED_AMT_CREDIT_MEAN',\n",
       "       'APPROVED_APP_CREDIT_PERC_MAX', 'APPROVED_APP_CREDIT_PERC_MEAN',\n",
       "       'APPROVED_AMT_DOWN_PAYMENT_MAX', 'APPROVED_AMT_DOWN_PAYMENT_MEAN',\n",
       "       'APPROVED_AMT_GOODS_PRICE_MAX', 'APPROVED_AMT_GOODS_PRICE_MEAN',\n",
       "       'APPROVED_HOUR_APPR_PROCESS_START_MAX',\n",
       "       'APPROVED_HOUR_APPR_PROCESS_START_MEAN',\n",
       "       'APPROVED_RATE_DOWN_PAYMENT_MIN', 'APPROVED_RATE_DOWN_PAYMENT_MAX',\n",
       "       'APPROVED_RATE_DOWN_PAYMENT_MEAN', 'APPROVED_DAYS_DECISION_MIN',\n",
       "       'APPROVED_DAYS_DECISION_MAX', 'APPROVED_DAYS_DECISION_MEAN',\n",
       "       'APPROVED_CNT_PAYMENT_MEAN', 'APPROVED_CNT_PAYMENT_SUM',\n",
       "       'REFUSED_AMT_ANNUITY_MAX', 'REFUSED_AMT_ANNUITY_MEAN',\n",
       "       'REFUSED_AMT_APPLICATION_MEAN', 'REFUSED_AMT_CREDIT_MAX',\n",
       "       'REFUSED_AMT_CREDIT_MEAN', 'REFUSED_APP_CREDIT_PERC_MAX',\n",
       "       'REFUSED_APP_CREDIT_PERC_MEAN', 'REFUSED_AMT_DOWN_PAYMENT_MAX',\n",
       "       'REFUSED_AMT_DOWN_PAYMENT_MEAN', 'REFUSED_AMT_GOODS_PRICE_MAX',\n",
       "       'REFUSED_AMT_GOODS_PRICE_MEAN',\n",
       "       'REFUSED_HOUR_APPR_PROCESS_START_MAX',\n",
       "       'REFUSED_HOUR_APPR_PROCESS_START_MEAN',\n",
       "       'REFUSED_RATE_DOWN_PAYMENT_MIN', 'REFUSED_RATE_DOWN_PAYMENT_MAX',\n",
       "       'REFUSED_RATE_DOWN_PAYMENT_MEAN', 'REFUSED_DAYS_DECISION_MIN',\n",
       "       'REFUSED_DAYS_DECISION_MAX', 'REFUSED_DAYS_DECISION_MEAN',\n",
       "       'REFUSED_CNT_PAYMENT_MEAN', 'REFUSED_CNT_PAYMENT_SUM',\n",
       "       'ARRATE_AMT_ANNUITY_MAX', 'ARRATE_AMT_ANNUITY_MEAN',\n",
       "       'ARRATE_AMT_APPLICATION_MEAN', 'ARRATE_AMT_CREDIT_MAX',\n",
       "       'ARRATE_AMT_CREDIT_MEAN', 'ARRATE_APP_CREDIT_PERC_MAX',\n",
       "       'ARRATE_APP_CREDIT_PERC_MEAN', 'ARRATE_AMT_DOWN_PAYMENT_MAX',\n",
       "       'ARRATE_AMT_DOWN_PAYMENT_MEAN', 'ARRATE_AMT_GOODS_PRICE_MAX',\n",
       "       'ARRATE_AMT_GOODS_PRICE_MEAN',\n",
       "       'ARRATE_HOUR_APPR_PROCESS_START_MAX',\n",
       "       'ARRATE_HOUR_APPR_PROCESS_START_MEAN',\n",
       "       'ARRATE_RATE_DOWN_PAYMENT_MIN', 'ARRATE_RATE_DOWN_PAYMENT_MAX',\n",
       "       'ARRATE_RATE_DOWN_PAYMENT_MEAN', 'ARRATE_DAYS_DECISION_MIN',\n",
       "       'ARRATE_DAYS_DECISION_MAX', 'ARRATE_DAYS_DECISION_MEAN',\n",
       "       'ARRATE_CNT_PAYMENT_MEAN', 'ARRATE_CNT_PAYMENT_SUM'], dtype=object)"
      ]
     },
     "execution_count": 28,
     "metadata": {},
     "output_type": "execute_result"
    }
   ],
   "source": [
    "np.array(prev_agg.columns)"
   ]
  },
  {
   "cell_type": "code",
   "execution_count": 29,
   "metadata": {
    "collapsed": true
   },
   "outputs": [],
   "source": [
    "prev_agg = prev_agg.reset_index()"
   ]
  },
  {
   "cell_type": "code",
   "execution_count": null,
   "metadata": {
    "collapsed": true
   },
   "outputs": [],
   "source": []
  },
  {
   "cell_type": "code",
   "execution_count": null,
   "metadata": {
    "collapsed": true
   },
   "outputs": [],
   "source": []
  },
  {
   "cell_type": "code",
   "execution_count": 30,
   "metadata": {
    "collapsed": true
   },
   "outputs": [],
   "source": [
    "prev_agg.to_pickle('./edit/tmp_data/prev.pkl')"
   ]
  },
  {
   "cell_type": "code",
   "execution_count": null,
   "metadata": {
    "collapsed": true
   },
   "outputs": [],
   "source": [
    "prev_agg[] = prev_agg"
   ]
  }
 ],
 "metadata": {
  "kernelspec": {
   "display_name": "Python 3",
   "language": "python",
   "name": "python3"
  },
  "language_info": {
   "codemirror_mode": {
    "name": "ipython",
    "version": 3
   },
   "file_extension": ".py",
   "mimetype": "text/x-python",
   "name": "python",
   "nbconvert_exporter": "python",
   "pygments_lexer": "ipython3",
   "version": "3.6.1"
  }
 },
 "nbformat": 4,
 "nbformat_minor": 2
}
